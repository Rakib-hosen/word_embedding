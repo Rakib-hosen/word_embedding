{
  "nbformat": 4,
  "nbformat_minor": 0,
  "metadata": {
    "colab": {
      "name": "word_embedding.ipynb",
      "provenance": [],
      "collapsed_sections": [],
      "authorship_tag": "ABX9TyOMcxQ6okttpV8CP947g1ww",
      "include_colab_link": true
    },
    "kernelspec": {
      "name": "python3",
      "display_name": "Python 3"
    }
  },
  "cells": [
    {
      "cell_type": "markdown",
      "metadata": {
        "id": "view-in-github",
        "colab_type": "text"
      },
      "source": [
        "<a href=\"https://colab.research.google.com/github/Rakib-hosen/word_embedding/blob/master/word_embedding.ipynb\" target=\"_parent\"><img src=\"https://colab.research.google.com/assets/colab-badge.svg\" alt=\"Open In Colab\"/></a>"
      ]
    },
    {
      "cell_type": "code",
      "metadata": {
        "id": "bBfOzM5sFx_E",
        "colab_type": "code",
        "colab": {
          "base_uri": "https://localhost:8080/",
          "height": 204
        },
        "outputId": "ea5856d1-e281-43ea-bec6-43c15762558d"
      },
      "source": [
        "!wget --no-check-certificate \\\n",
        "    https://storage.googleapis.com/laurencemoroney-blog.appspot.com/bbc-text.csv \\\n",
        "    -O /tmp/bbc-text.csv"
      ],
      "execution_count": 1,
      "outputs": [
        {
          "output_type": "stream",
          "text": [
            "--2020-08-17 17:36:47--  https://storage.googleapis.com/laurencemoroney-blog.appspot.com/bbc-text.csv\n",
            "Resolving storage.googleapis.com (storage.googleapis.com)... 74.125.143.128, 173.194.69.128, 173.194.79.128, ...\n",
            "Connecting to storage.googleapis.com (storage.googleapis.com)|74.125.143.128|:443... connected.\n",
            "HTTP request sent, awaiting response... 200 OK\n",
            "Length: 5057493 (4.8M) [application/octet-stream]\n",
            "Saving to: ‘/tmp/bbc-text.csv’\n",
            "\n",
            "\r/tmp/bbc-text.csv     0%[                    ]       0  --.-KB/s               \r/tmp/bbc-text.csv   100%[===================>]   4.82M  26.9MB/s    in 0.2s    \n",
            "\n",
            "2020-08-17 17:36:49 (26.9 MB/s) - ‘/tmp/bbc-text.csv’ saved [5057493/5057493]\n",
            "\n"
          ],
          "name": "stdout"
        }
      ]
    },
    {
      "cell_type": "code",
      "metadata": {
        "id": "3Xsl2g3DHFQo",
        "colab_type": "code",
        "colab": {}
      },
      "source": [
        "import csv\n",
        "import os\n",
        "import numpy as np\n",
        "import tensorflow as tf\n",
        "from tensorflow.keras.preprocessing.text import Tokenizer\n",
        "from tensorflow.keras.preprocessing.sequence import pad_sequences"
      ],
      "execution_count": 2,
      "outputs": []
    },
    {
      "cell_type": "code",
      "metadata": {
        "id": "wMDyxPxQHcoX",
        "colab_type": "code",
        "colab": {}
      },
      "source": [
        "#hyperparameters\n",
        "\n",
        "vocab_size = 1000\n",
        "embedding_dim = 16\n",
        "oov_token = '<OOV>'\n",
        "trunc_type = 'post'\n",
        "train_portion = 0.8\n",
        "padding_type = 'post'\n",
        "max_len = 120\n"
      ],
      "execution_count": 3,
      "outputs": []
    },
    {
      "cell_type": "code",
      "metadata": {
        "id": "PzIBqK4YID1P",
        "colab_type": "code",
        "colab": {
          "base_uri": "https://localhost:8080/",
          "height": 105
        },
        "outputId": "1f729ca8-a29e-42cd-bf94-ab7b4367cd07"
      },
      "source": [
        "sentences = []\n",
        "labels = []\n",
        "stopwords = [ \"a\", \"about\", \"above\", \"after\", \"again\", \"against\", \"all\", \"am\", \"an\", \"and\", \"any\", \"are\", \"as\", \"at\", \"be\", \"because\", \"been\", \"before\", \"being\", \"below\", \"between\", \"both\", \"but\", \"by\", \"could\", \"did\", \"do\", \"does\", \"doing\", \"down\", \"during\", \"each\", \"few\", \"for\", \"from\", \"further\", \"had\", \"has\", \"have\", \"having\", \"he\", \"he'd\", \"he'll\", \"he's\", \"her\", \"here\", \"here's\", \"hers\", \"herself\", \"him\", \"himself\", \"his\", \"how\", \"how's\", \"i\", \"i'd\", \"i'll\", \"i'm\", \"i've\", \"if\", \"in\", \"into\", \"is\", \"it\", \"it's\", \"its\", \"itself\", \"let's\", \"me\", \"more\", \"most\", \"my\", \"myself\", \"nor\", \"of\", \"on\", \"once\", \"only\", \"or\", \"other\", \"ought\", \"our\", \"ours\", \"ourselves\", \"out\", \"over\", \"own\", \"same\", \"she\", \"she'd\", \"she'll\", \"she's\", \"should\", \"so\", \"some\", \"such\", \"than\", \"that\", \"that's\", \"the\", \"their\", \"theirs\", \"them\", \"themselves\", \"then\", \"there\", \"there's\", \"these\", \"they\", \"they'd\", \"they'll\", \"they're\", \"they've\", \"this\", \"those\", \"through\", \"to\", \"too\", \"under\", \"until\", \"up\", \"very\", \"was\", \"we\", \"we'd\", \"we'll\", \"we're\", \"we've\", \"were\", \"what\", \"what's\", \"when\", \"when's\", \"where\", \"where's\", \"which\", \"while\", \"who\", \"who's\", \"whom\", \"why\", \"why's\", \"with\", \"would\", \"you\", \"you'd\", \"you'll\", \"you're\", \"you've\", \"your\", \"yours\", \"yourself\", \"yourselves\" ]\n",
        "with open('/tmp/bbc-text.csv', 'r') as csvfile:\n",
        "  reader = csv.reader(csvfile,delimiter=',')\n",
        "  next(reader)\n",
        "  for label, sentence in reader:\n",
        "    labels.append(label)\n",
        "    for word in stopwords:\n",
        "      token = ' '+ word + ' '\n",
        "      sentence = sentence.replace(token, ' ')\n",
        "      sentence = sentence.replace('  ', ' ')\n",
        "    sentences.append(sentence)\n",
        "\n",
        "\n",
        "print(len(labels))\n",
        "print(labels[0])\n",
        "print(len(sentences))\n",
        "print(sentences[0])\n"
      ],
      "execution_count": 4,
      "outputs": [
        {
          "output_type": "stream",
          "text": [
            "2225\n",
            "tech\n",
            "2225\n",
            "tv future hands viewers home theatre systems plasma high-definition tvs digital video recorders moving living room way people watch tv will radically different five years time. according expert panel gathered annual consumer electronics show las vegas discuss new technologies will impact one favourite pastimes. us leading trend programmes content will delivered viewers via home networks cable satellite telecoms companies broadband service providers front rooms portable devices. one talked-about technologies ces digital personal video recorders (dvr pvr). set-top boxes like us s tivo uk s sky+ system allow people record store play pause forward wind tv programmes want. essentially technology allows much personalised tv. also built-in high-definition tv sets big business japan us slower take off europe lack high-definition programming. not can people forward wind adverts can also forget abiding network channel schedules putting together a-la-carte entertainment. us networks cable satellite companies worried means terms advertising revenues well brand identity viewer loyalty channels. although us leads technology moment also concern raised europe particularly growing uptake services like sky+. happens today will see nine months years time uk adam hume bbc broadcast s futurologist told bbc news website. likes bbc no issues lost advertising revenue yet. pressing issue moment commercial uk broadcasters brand loyalty important everyone. will talking content brands rather network brands said tim hanlon brand communications firm starcom mediavest. reality broadband connections anybody can producer content. added: challenge now hard promote programme much choice. means said stacey jolna senior vice president tv guide tv group way people find content want watch simplified tv viewers. means networks us terms channels take leaf google s book search engine future instead scheduler help people find want watch. kind channel model might work younger ipod generation used taking control gadgets play them. might not suit everyone panel recognised. older generations comfortable familiar schedules channel brands know getting. perhaps not want much choice put hands mr hanlon suggested. end kids just diapers pushing buttons already - everything possible available said mr hanlon. ultimately consumer will tell market want. 50 000 new gadgets technologies showcased ces many enhancing tv-watching experience. high-definition tv sets everywhere many new models lcd (liquid crystal display) tvs launched dvr capability built instead external boxes. one example launched show humax s 26-inch lcd tv 80-hour tivo dvr dvd recorder. one us s biggest satellite tv companies directtv even launched branded dvr show 100-hours recording capability instant replay search function. set can pause rewind tv 90 hours. microsoft chief bill gates announced pre-show keynote speech partnership tivo called tivotogo means people can play recorded programmes windows pcs mobile devices. reflect increasing trend freeing multimedia people can watch want want.\n"
          ],
          "name": "stdout"
        }
      ]
    },
    {
      "cell_type": "code",
      "metadata": {
        "id": "VSVMhNZCPmx2",
        "colab_type": "code",
        "colab": {
          "base_uri": "https://localhost:8080/",
          "height": 34
        },
        "outputId": "76ef484d-9bfd-40a7-bac4-36563aaff0a7"
      },
      "source": [
        "train_size = int(len(sentences)*train_portion)\n",
        "train_sentences = sentences[:train_size]\n",
        "train_labels = labels[:train_size]\n",
        "test_sentences = sentences[train_size:]\n",
        "test_labels = labels[train_size:]\n",
        "print(len(train_sentences),len(test_sentences))"
      ],
      "execution_count": 5,
      "outputs": [
        {
          "output_type": "stream",
          "text": [
            "1780 445\n"
          ],
          "name": "stdout"
        }
      ]
    },
    {
      "cell_type": "code",
      "metadata": {
        "id": "SSL9smSwJMy5",
        "colab_type": "code",
        "colab": {}
      },
      "source": [
        "tokenizer = Tokenizer(num_words=vocab_size, oov_token=oov_token)\n",
        "tokenizer.fit_on_texts(train_sentences)\n",
        "word_index = tokenizer.word_index\n",
        "\n",
        "sequences = tokenizer.texts_to_sequences(train_sentences)\n",
        "train_sequences_padded = pad_sequences(sequences,padding=padding_type, maxlen=max_len, truncating=trunc_type)\n",
        "\n",
        "test_sequences = tokenizer.texts_to_sequences(test_sentences)\n",
        "test_sequences_padded = pad_sequences(test_sequences, padding=padding_type, maxlen=max_len, truncating=trunc_type)\n",
        "\n"
      ],
      "execution_count": 9,
      "outputs": []
    },
    {
      "cell_type": "code",
      "metadata": {
        "id": "Qse4cRlFgnFO",
        "colab_type": "code",
        "colab": {}
      },
      "source": [
        "l_tokenizer = Tokenizer()\n",
        "l_tokenizer.fit_on_texts(labels)\n",
        "\n",
        "train_labels_sequences = np.array(l_tokenizer.texts_to_sequences(train_labels))\n",
        "test_labels_sequences = np.array(l_tokenizer.texts_to_sequences(test_labels))"
      ],
      "execution_count": 11,
      "outputs": []
    },
    {
      "cell_type": "code",
      "metadata": {
        "id": "rRjbbdpHhtu8",
        "colab_type": "code",
        "colab": {
          "base_uri": "https://localhost:8080/",
          "height": 289
        },
        "outputId": "009de34b-7024-4b92-faec-1f464cd4cd8f"
      },
      "source": [
        "model = tf.keras.Sequential([\n",
        "    tf.keras.layers.Embedding(vocab_size, embedding_dim, input_length=max_len),\n",
        "    tf.keras.layers.GlobalAveragePooling1D(),\n",
        "    tf.keras.layers.Dense(24, activation='relu'),\n",
        "    tf.keras.layers.Dense(6, activation='softmax')\n",
        "])\n",
        "model.compile(loss='sparse_categorical_crossentropy',optimizer='adam',metrics=['accuracy'])\n",
        "model.summary()"
      ],
      "execution_count": 12,
      "outputs": [
        {
          "output_type": "stream",
          "text": [
            "Model: \"sequential\"\n",
            "_________________________________________________________________\n",
            "Layer (type)                 Output Shape              Param #   \n",
            "=================================================================\n",
            "embedding (Embedding)        (None, 120, 16)           16000     \n",
            "_________________________________________________________________\n",
            "global_average_pooling1d (Gl (None, 16)                0         \n",
            "_________________________________________________________________\n",
            "dense (Dense)                (None, 24)                408       \n",
            "_________________________________________________________________\n",
            "dense_1 (Dense)              (None, 6)                 150       \n",
            "=================================================================\n",
            "Total params: 16,558\n",
            "Trainable params: 16,558\n",
            "Non-trainable params: 0\n",
            "_________________________________________________________________\n"
          ],
          "name": "stdout"
        }
      ]
    },
    {
      "cell_type": "code",
      "metadata": {
        "id": "7ODi1lTWh9kw",
        "colab_type": "code",
        "colab": {
          "base_uri": "https://localhost:8080/",
          "height": 714
        },
        "outputId": "e8e33ae7-1112-44fc-c87d-9f588700e251"
      },
      "source": [
        "model.fit(train_sequences_padded,train_labels_sequences,\n",
        "          validation_data=(test_sequences_padded,test_labels_sequences),\n",
        "          epochs=20,\n",
        "          verbose= 2)"
      ],
      "execution_count": 15,
      "outputs": [
        {
          "output_type": "stream",
          "text": [
            "Epoch 1/20\n",
            "56/56 - 0s - loss: 0.9698 - accuracy: 0.7753 - val_loss: 0.9183 - val_accuracy: 0.7775\n",
            "Epoch 2/20\n",
            "56/56 - 0s - loss: 0.7914 - accuracy: 0.8506 - val_loss: 0.7588 - val_accuracy: 0.8652\n",
            "Epoch 3/20\n",
            "56/56 - 0s - loss: 0.6473 - accuracy: 0.9022 - val_loss: 0.6443 - val_accuracy: 0.8876\n",
            "Epoch 4/20\n",
            "56/56 - 0s - loss: 0.5342 - accuracy: 0.9258 - val_loss: 0.5510 - val_accuracy: 0.8989\n",
            "Epoch 5/20\n",
            "56/56 - 0s - loss: 0.4457 - accuracy: 0.9399 - val_loss: 0.4780 - val_accuracy: 0.9079\n",
            "Epoch 6/20\n",
            "56/56 - 0s - loss: 0.3762 - accuracy: 0.9466 - val_loss: 0.4297 - val_accuracy: 0.9056\n",
            "Epoch 7/20\n",
            "56/56 - 0s - loss: 0.3194 - accuracy: 0.9522 - val_loss: 0.3820 - val_accuracy: 0.9124\n",
            "Epoch 8/20\n",
            "56/56 - 0s - loss: 0.2743 - accuracy: 0.9590 - val_loss: 0.3484 - val_accuracy: 0.9146\n",
            "Epoch 9/20\n",
            "56/56 - 0s - loss: 0.2376 - accuracy: 0.9624 - val_loss: 0.3233 - val_accuracy: 0.9236\n",
            "Epoch 10/20\n",
            "56/56 - 0s - loss: 0.2080 - accuracy: 0.9669 - val_loss: 0.2996 - val_accuracy: 0.9236\n",
            "Epoch 11/20\n",
            "56/56 - 0s - loss: 0.1826 - accuracy: 0.9713 - val_loss: 0.2816 - val_accuracy: 0.9303\n",
            "Epoch 12/20\n",
            "56/56 - 0s - loss: 0.1617 - accuracy: 0.9764 - val_loss: 0.2677 - val_accuracy: 0.9348\n",
            "Epoch 13/20\n",
            "56/56 - 0s - loss: 0.1433 - accuracy: 0.9798 - val_loss: 0.2590 - val_accuracy: 0.9371\n",
            "Epoch 14/20\n",
            "56/56 - 0s - loss: 0.1284 - accuracy: 0.9820 - val_loss: 0.2514 - val_accuracy: 0.9348\n",
            "Epoch 15/20\n",
            "56/56 - 0s - loss: 0.1148 - accuracy: 0.9854 - val_loss: 0.2373 - val_accuracy: 0.9371\n",
            "Epoch 16/20\n",
            "56/56 - 0s - loss: 0.1026 - accuracy: 0.9882 - val_loss: 0.2354 - val_accuracy: 0.9371\n",
            "Epoch 17/20\n",
            "56/56 - 0s - loss: 0.0922 - accuracy: 0.9899 - val_loss: 0.2254 - val_accuracy: 0.9371\n",
            "Epoch 18/20\n",
            "56/56 - 0s - loss: 0.0831 - accuracy: 0.9910 - val_loss: 0.2233 - val_accuracy: 0.9371\n",
            "Epoch 19/20\n",
            "56/56 - 0s - loss: 0.0749 - accuracy: 0.9949 - val_loss: 0.2170 - val_accuracy: 0.9371\n",
            "Epoch 20/20\n",
            "56/56 - 0s - loss: 0.0678 - accuracy: 0.9955 - val_loss: 0.2181 - val_accuracy: 0.9393\n"
          ],
          "name": "stdout"
        },
        {
          "output_type": "execute_result",
          "data": {
            "text/plain": [
              "<tensorflow.python.keras.callbacks.History at 0x7fcbbe417be0>"
            ]
          },
          "metadata": {
            "tags": []
          },
          "execution_count": 15
        }
      ]
    },
    {
      "cell_type": "code",
      "metadata": {
        "id": "YCSMPJEkiVC4",
        "colab_type": "code",
        "colab": {}
      },
      "source": [
        ""
      ],
      "execution_count": null,
      "outputs": []
    }
  ]
}